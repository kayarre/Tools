{
 "cells": [
  {
   "cell_type": "code",
   "execution_count": 2,
   "metadata": {
    "collapsed": true
   },
   "outputs": [],
   "source": [
    "import surfacegenerator"
   ]
  },
  {
   "cell_type": "raw",
   "metadata": {},
   "source": [
    "%load_ext autoreload\n",
    "%autoreload 2"
   ]
  },
  {
   "cell_type": "code",
   "execution_count": 5,
   "metadata": {
    "collapsed": false
   },
   "outputs": [
    {
     "name": "stdout",
     "output_type": "stream",
     "text": [
      "Help on function CylinderGenerator in module surfacegenerator.CylinderGenerator:\n",
      "\n",
      "CylinderGenerator(radius, length, resolution, outfile, direction=(0, 0, 1))\n",
      "    Write an STL file of a triangulated, uncapped, origin-centred cylinder\n",
      "    of the specified radius, length and resolution to the specified file.\n",
      "\n"
     ]
    }
   ],
   "source": [
    "help(surfacegenerator.CylinderGenerator)"
   ]
  },
  {
   "cell_type": "code",
   "execution_count": 6,
   "metadata": {
    "collapsed": true
   },
   "outputs": [],
   "source": [
    "surfacegenerator.CylinderGenerator(radius=3.0,\n",
    "                                   length=100.0, resolution=10,\n",
    "                                   outfile=\"test.stl\", direction=(1,0,0))"
   ]
  },
  {
   "cell_type": "code",
   "execution_count": 9,
   "metadata": {
    "collapsed": false
   },
   "outputs": [],
   "source": [
    "surfacegenerator.CylinderGenerator(radius=3.0,\n",
    "                                   length=100.0, resolution=21,\n",
    "                                   outfile=\"Tube_6mmD_100mmL.stl\", direction=(1,0,0))"
   ]
  },
  {
   "cell_type": "code",
   "execution_count": null,
   "metadata": {
    "collapsed": true
   },
   "outputs": [],
   "source": []
  }
 ],
 "metadata": {
  "anaconda-cloud": {},
  "kernelspec": {
   "display_name": "Python [conda env:vtk]",
   "language": "python",
   "name": "conda-env-vtk-py"
  },
  "language_info": {
   "codemirror_mode": {
    "name": "ipython",
    "version": 3
   },
   "file_extension": ".py",
   "mimetype": "text/x-python",
   "name": "python",
   "nbconvert_exporter": "python",
   "pygments_lexer": "ipython3",
   "version": "3.5.2"
  }
 },
 "nbformat": 4,
 "nbformat_minor": 1
}
